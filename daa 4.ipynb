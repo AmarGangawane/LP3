{
 "cells": [
  {
   "cell_type": "code",
   "execution_count": 112,
   "id": "f0264a47",
   "metadata": {},
   "outputs": [],
   "source": [
    "N = 8\n",
    "x, y = 2,3"
   ]
  },
  {
   "cell_type": "code",
   "execution_count": 113,
   "id": "6b5cbd64",
   "metadata": {},
   "outputs": [],
   "source": [
    "ld = [0] * (N*N)\n",
    "rd = [0] * (N*N)\n",
    "cl = [0] * (N*N)"
   ]
  },
  {
   "cell_type": "code",
   "execution_count": 114,
   "id": "69d2bae0",
   "metadata": {},
   "outputs": [],
   "source": [
    "def printSolution(board):\n",
    "    print(\"N Queen Backtracking Solution:\\nGiven initial position of 1st queen at row:\",x,\"column:\",y, \"\\n\",)\n",
    "    for line in board:\n",
    "        print(\" \".join(map(str, line)))"
   ]
  },
  {
   "cell_type": "code",
   "execution_count": 115,
   "id": "2b56ff30",
   "metadata": {},
   "outputs": [],
   "source": [
    " def solveNQUtil(board, col):\n",
    "\n",
    "    if col >= N:\n",
    "        return True\n",
    "\n",
    "    if col == y:\n",
    "        return solveNQUtil(board, col + 1)\n",
    "\n",
    "    for i in range(N):\n",
    "\n",
    "        if i == x:\n",
    "            continue\n",
    "\n",
    "        if (ld[i - col + N - 1] != 1 and rd[i + col] != 1) and cl[i] != 1:\n",
    "            board[i][col] = 1\n",
    "            ld[i - col + N - 1] = rd[i + col] = cl[i] = 1\n",
    "\n",
    "            if solveNQUtil(board, col + 1):\n",
    "                return True\n",
    "            board[i][col] = 0  # BACKTRACK\n",
    "            ld[i - col + N - 1] = rd[i + col] = cl[i] = 0\n",
    "\n",
    "               \n",
    "    return False\n"
   ]
  },
  {
   "cell_type": "code",
   "execution_count": 116,
   "id": "bd326f5b",
   "metadata": {},
   "outputs": [],
   "source": [
    "def solveNQ():\n",
    "\n",
    "    board = [[0 for _ in range(N)] for _ in range(N)]\n",
    "    board[x][y] = 1\n",
    "\n",
    "    ld[x - y + N - 1] = rd[x +y] = cl[x] = 1\n",
    "\n",
    "    if not solveNQUtil(board, 0):\n",
    "        print(\"Solution does not exist\")\n",
    "        return False\n",
    "    printSolution(board)\n",
    "    return True"
   ]
  },
  {
   "cell_type": "code",
   "execution_count": 117,
   "id": "6c57272e",
   "metadata": {},
   "outputs": [
    {
     "name": "stdout",
     "output_type": "stream",
     "text": [
      "N Queen Backtracking Solution:\n",
      "Given initial position of 1st queen at row: 2 column: 3 \n",
      "\n",
      "1 0 0 0 0 0 0 0\n",
      "0 0 0 0 0 0 1 0\n",
      "0 0 0 1 0 0 0 0\n",
      "0 0 0 0 0 1 0 0\n",
      "0 0 0 0 0 0 0 1\n",
      "0 1 0 0 0 0 0 0\n",
      "0 0 0 0 1 0 0 0\n",
      "0 0 1 0 0 0 0 0\n"
     ]
    },
    {
     "data": {
      "text/plain": [
       "True"
      ]
     },
     "execution_count": 117,
     "metadata": {},
     "output_type": "execute_result"
    }
   ],
   "source": [
    "solveNQ()"
   ]
  },
  {
   "cell_type": "code",
   "execution_count": null,
   "id": "5391ee20",
   "metadata": {},
   "outputs": [],
   "source": []
  }
 ],
 "metadata": {
  "kernelspec": {
   "display_name": "Python 3 (ipykernel)",
   "language": "python",
   "name": "python3"
  },
  "language_info": {
   "codemirror_mode": {
    "name": "ipython",
    "version": 3
   },
   "file_extension": ".py",
   "mimetype": "text/x-python",
   "name": "python",
   "nbconvert_exporter": "python",
   "pygments_lexer": "ipython3",
   "version": "3.10.8"
  }
 },
 "nbformat": 4,
 "nbformat_minor": 5
}
